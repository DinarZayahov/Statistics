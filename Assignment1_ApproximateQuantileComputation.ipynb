{
  "nbformat": 4,
  "nbformat_minor": 0,
  "metadata": {
    "colab": {
      "name": "Assignment1_ApproximateQuantileComputation.ipynb",
      "provenance": [],
      "collapsed_sections": [],
      "authorship_tag": "ABX9TyMISSEfNUKVVeQiuL5Gse0x"
    },
    "kernelspec": {
      "name": "python3",
      "display_name": "Python 3"
    },
    "language_info": {
      "name": "python"
    }
  },
  "cells": [
    {
      "cell_type": "code",
      "source": [
        "import math\n",
        "\n",
        "\n",
        "def GK01(epsilon):\n",
        "  S = []\n",
        "  N = 0\n",
        "\n",
        "  while len(input_stream) != 0:\n",
        "    s = len(S)\n",
        "\n",
        "    if N % math.floor((1/(2*epsilon))) == 0:\n",
        "\n",
        "      j = None\n",
        "      for i in range(s - 1, 1, -1):\n",
        "        if j is not None:\n",
        "          i = j - 1\n",
        "\n",
        "        j = i - 1\n",
        "\n",
        "        sum = None\n",
        "        if j >= 1:\n",
        "          sum = S[j][1] + S[i][1] + S[i][2]\n",
        "        while j >= 1 and sum < 2*epsilon*N:\n",
        "          j -= 1\n",
        "          sum += S[j][1]\n",
        "\n",
        "        if j >= 1:\n",
        "          sum -= S[j][1]\n",
        "        j += 1\n",
        "\n",
        "        if j < i:\n",
        "          new_entry = (S[i][0], sum - S[i][2], S[i][2])\n",
        "          for _ in range(j, i + 1):\n",
        "            S.pop(j)\n",
        "          S.insert(j, new_entry)\n",
        "\n",
        "    v = input_stream.pop(0)\n",
        "\n",
        "    ind = 0\n",
        "    while len(S) != 0 and S[ind][0] <= v:\n",
        "      ind += 1\n",
        "      if ind == len(S):\n",
        "        break\n",
        "\n",
        "    if ind == 0 or ind == len(S):\n",
        "      delta = 0\n",
        "    else:\n",
        "      delta = S[ind][1] + S[ind][2] - 1\n",
        "    S.insert(ind, (v, 1, delta))\n",
        "    N += 1\n",
        "\n",
        "  return S"
      ],
      "metadata": {
        "id": "Ww288-8OVaxN"
      },
      "execution_count": 127,
      "outputs": []
    },
    {
      "cell_type": "code",
      "source": [
        "def phi_quantile(r, array):\n",
        "  return array[r]"
      ],
      "metadata": {
        "id": "c7esG7BACsei"
      },
      "execution_count": 128,
      "outputs": []
    },
    {
      "cell_type": "code",
      "source": [
        "def epsilon_approximate_phi_quantile(r, sorted_input_stream, epsilon, summary):\n",
        "  N = len(sorted_input_stream)\n",
        "\n",
        "  error = math.floor(epsilon*N)\n",
        "\n",
        "  if r >= N - error:\n",
        "    return summary[-1][0]\n",
        "\n",
        "  else:\n",
        "    for j in range(N):\n",
        "\n",
        "      r_max_v_j = summary[j][2]\n",
        "      for l in range(j+1):\n",
        "        r_max_v_j += summary[l][1]\n",
        "\n",
        "      if r_max_v_j > r + error:\n",
        "        return summary[j - 1][0]"
      ],
      "metadata": {
        "id": "Xz6zwWnvGEpT"
      },
      "execution_count": 129,
      "outputs": []
    },
    {
      "cell_type": "code",
      "execution_count": 133,
      "metadata": {
        "colab": {
          "base_uri": "https://localhost:8080/"
        },
        "id": "sv2kgTG0fFX_",
        "outputId": "4e541c52-7587-4dfd-f828-d9561dad9570"
      },
      "outputs": [
        {
          "output_type": "stream",
          "name": "stdout",
          "text": [
            "[2, 2, 3, 3, 5, 5, 5, 6, 7, 7, 8, 9, 10, 10, 12, 13, 14, 14, 14, 14, 15, 15, 16, 17, 17, 18, 18, 19, 21, 21, 24, 24, 26, 26, 27, 29, 30, 32, 32, 32, 33, 34, 37, 38, 39, 41, 41, 42, 45, 45, 46, 46, 46, 48, 49, 50, 51, 55, 57, 58, 59, 60, 62, 63, 63, 64, 64, 68, 68, 69, 73, 74, 75, 76, 77, 77, 77, 80, 84, 84, 84, 84, 86, 86, 86, 89, 91, 91, 93, 93, 93, 94, 95, 96, 96, 96, 97, 97, 98, 100]\n",
            "φ-quantile is 46\n",
            "ε-approximate φ-quantile is 46\n"
          ]
        }
      ],
      "source": [
        "import random\n",
        "\n",
        "\n",
        "phi = 0.5\n",
        "epsilon = 0.1\n",
        "\n",
        "input_stream = [random.randint(1, 100) for i in range(100)]\n",
        "sorted_input_stream = sorted(input_stream)\n",
        "r = math.floor(phi*len(sorted_input_stream))\n",
        "print(sorted_input_stream)\n",
        "print(\"\\u03C6-quantile is\", phi_quantile(r, sorted_input_stream))\n",
        "\n",
        "summary = GK01(epsilon)\n",
        "print(\"\\u03B5-approximate \\u03C6-quantile is\", epsilon_approximate_phi_quantile(r, sorted_input_stream, epsilon, summary))\n",
        "\n",
        "# out = [tuple_[0] for tuple_ in summary]\n",
        "# print(out)"
      ]
    }
  ]
}